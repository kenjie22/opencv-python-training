{
 "cells": [
  {
   "cell_type": "code",
   "execution_count": 46,
   "metadata": {},
   "outputs": [],
   "source": [
    "import cv2\n",
    "howie = cv2.imread('../assets/kenjie.jpg', cv2.IMREAD_COLOR)\n",
    "acn = cv2.imread('../assets/accenture.png')\n",
    "\n",
    "acn =cv2.resize(big_bang, (int(acn.shape[1]*0.50), int(acn.shape[0]*0.50)))"
   ]
  },
  {
   "cell_type": "code",
   "execution_count": 47,
   "metadata": {},
   "outputs": [],
   "source": [
    "rows, cols, channels=big_bang.shape\n",
    "\n",
    "roi=howie[0:rows,0:cols]\n",
    "\n",
    "cv2.imshow('roi',roi)\n",
    "cv2.waitKey(0)\n",
    "cv2.destroyAllWindows()"
   ]
  },
  {
   "cell_type": "code",
   "execution_count": 48,
   "metadata": {},
   "outputs": [],
   "source": [
    "acn_gray = cv2.cvtColor(acn,cv2.COLOR_BGR2GRAY)\n",
    "\n",
    "ret, mask=cv2.threshold(acn_gray, 220,255,cv2.THRESH_BINARY_INV)\n",
    "\n",
    "cv2.imshow('mask',mask)\n",
    "cv2.waitKey(0)\n",
    "cv2.destroyAllWindows()"
   ]
  },
  {
   "cell_type": "code",
   "execution_count": 49,
   "metadata": {},
   "outputs": [],
   "source": [
    "mask_inv= cv2.bitwise_not(mask)\n",
    "\n",
    "cv2.imshow('mask_inv', mask_inv)\n",
    "cv2.waitKey(0)\n",
    "cv2.destroyAllWindows()"
   ]
  },
  {
   "cell_type": "code",
   "execution_count": 50,
   "metadata": {},
   "outputs": [],
   "source": [
    "howie_bg = cv2.bitwise_and(roi,roi, mask = mask_inv)\n",
    "\n",
    "cv2.imshow('howie_bg', howie_bg)\n",
    "cv2.waitKey(0)\n",
    "cv2.destroyAllWindows()"
   ]
  },
  {
   "cell_type": "code",
   "execution_count": 51,
   "metadata": {},
   "outputs": [],
   "source": [
    "acn_fg= cv2.bitwise_and(acn,acn, mask=mask)\n",
    "\n",
    "cv2.imshow('acn_fg', acn_fg)\n",
    "cv2.waitKey(0)\n",
    "cv2.destroyAllWindows()"
   ]
  },
  {
   "cell_type": "code",
   "execution_count": 52,
   "metadata": {},
   "outputs": [],
   "source": [
    "dst = cv2.add(howie_bg,acn_fg)\n",
    "\n",
    "howie[0:rows, 0:cols]=dst\n",
    "\n",
    "cv2.namedWindow('kenjie_acn',cv2.WINDOW_NORMAL)\n",
    "cv2.imshow('kenjie_acn', howie)\n",
    "cv2.waitKey(0)\n",
    "cv2.destroyAllWindows()"
   ]
  },
  {
   "cell_type": "code",
   "execution_count": null,
   "metadata": {},
   "outputs": [],
   "source": []
  },
  {
   "cell_type": "code",
   "execution_count": null,
   "metadata": {},
   "outputs": [],
   "source": []
  },
  {
   "cell_type": "code",
   "execution_count": null,
   "metadata": {},
   "outputs": [],
   "source": []
  }
 ],
 "metadata": {
  "kernelspec": {
   "display_name": "Python 3",
   "language": "python",
   "name": "python3"
  },
  "language_info": {
   "codemirror_mode": {
    "name": "ipython",
    "version": 3
   },
   "file_extension": ".py",
   "mimetype": "text/x-python",
   "name": "python",
   "nbconvert_exporter": "python",
   "pygments_lexer": "ipython3",
   "version": "3.6.5"
  }
 },
 "nbformat": 4,
 "nbformat_minor": 2
}
